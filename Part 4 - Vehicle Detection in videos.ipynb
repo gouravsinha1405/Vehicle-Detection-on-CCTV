{
 "cells": [
  {
   "cell_type": "code",
   "execution_count": 17,
   "metadata": {},
   "outputs": [],
   "source": [
    "import warnings\n",
    "warnings.filterwarnings(\"ignore\")\n",
    "import cv2\n",
    "import matplotlib.pyplot as plt\n",
    "import numpy as np\n",
    "import time"
   ]
  },
  {
   "cell_type": "markdown",
   "metadata": {},
   "source": [
    "### Vehicle detection on static Camera"
   ]
  },
  {
   "cell_type": "code",
   "execution_count": 24,
   "metadata": {},
   "outputs": [],
   "source": [
    "#---tutorial:https://opencv-python-tutroals.readthedocs.io/en/latest/py_tutorials/py_gui/py_video_display/py_video_display.html\n",
    "#keypoint : The video is read frame by frame and each frame\n",
    "#can be treated as an image and hence all cv2 image processing can be applied on the frames of the videos\n",
    "cap = cv2.VideoCapture(r'E:\\Video\\video1.mp4')\n",
    "#---detect the object using background subtraction-----#\n",
    "object_detector = cv2.createBackgroundSubtractorMOG2(history=200,varThreshold=90)\n",
    "\n",
    "while(cap.isOpened()):\n",
    "    stime= time.time()\n",
    "    ret, frame = cap.read()\n",
    "    if ret:\n",
    "        gray = cv2.cvtColor(frame, cv2.COLOR_BGR2GRAY) \n",
    "        mask = object_detector.apply(frame)\n",
    "        _,mask = cv2.threshold(mask,254,255,cv2.THRESH_BINARY) #---will retain only white pixels in mask while removing all dark ot grey pixels i.e all the pixels 254 and below will be removed\n",
    "        contours,_ = cv2.findContours(mask,cv2.RETR_TREE,cv2.CHAIN_APPROX_SIMPLE)\n",
    "        #----removing the smaller object contours----#\n",
    "        for cnt in contours:\n",
    "            area = cv2.contourArea(cnt)\n",
    "            if area > 200:\n",
    "                #cv2.drawContours(frame,[cnt],-1,(0,255,0),2)\n",
    "                x,y,w,h = cv2.boundingRect(cnt)\n",
    "                cv2.rectangle(frame,(x,y),(x+w,y+h),(0,0,255),2)\n",
    "        cv2.imshow('original',frame)\n",
    "        cv2.imshow('mask',mask)\n",
    "        if cv2.waitKey(35) & 0xFF == ord('q'):\n",
    "            break\n",
    "\n",
    "cap.release()\n",
    "cv2.destroyAllWindows()\n"
   ]
  },
  {
   "cell_type": "markdown",
   "metadata": {},
   "source": [
    "<li>We used background subtraction with history value 200 since amount of vehicles is high and we used varThreshold =90 to improve the accuracy of our prediction.\n",
    "<li>After we used background subtraction we were able to easily identify moving objects since they were shown as white while most of the static objects were black"
   ]
  },
  {
   "cell_type": "markdown",
   "metadata": {},
   "source": [
    "![title](BackgroundSubtraction.JPG)"
   ]
  },
  {
   "cell_type": "markdown",
   "metadata": {},
   "source": [
    "<li>But in the above mask we could still observe a few small white objects that are noise in our mask\n",
    "<li>In order to reduce them we can add thresholding that will retain only white pixels in mask while removing all dark or grey pixels i.e all the pixels 254 and below will be removed. Below is the image after thresholding that shows some improvement"
   ]
  },
  {
   "cell_type": "markdown",
   "metadata": {},
   "source": [
    "![title](AfterAddingThreshold.JPG)"
   ]
  },
  {
   "cell_type": "markdown",
   "metadata": {},
   "source": [
    "<li>Now we generate contours and will plot the contours that have area denser than 200 pixels"
   ]
  },
  {
   "cell_type": "markdown",
   "metadata": {},
   "source": [
    "![title](ContourAreaLessThan200px.JPG)"
   ]
  },
  {
   "cell_type": "markdown",
   "metadata": {},
   "source": [
    "<li>The vehicles are now getting identified but the bounding boxes are not uniform. Let us build the red bounding box around the vehicle"
   ]
  },
  {
   "cell_type": "markdown",
   "metadata": {},
   "source": [
    "![title](vehicle_capture_on_static_camera.JPG)"
   ]
  },
  {
   "cell_type": "markdown",
   "metadata": {},
   "source": [
    "### Vehicle detection on non static camera(using Classifier)"
   ]
  },
  {
   "cell_type": "code",
   "execution_count": 22,
   "metadata": {},
   "outputs": [],
   "source": [
    "cap = cv2.VideoCapture(r'E:\\Video\\video2.mp4')\n",
    "car_cascade = cv2.CascadeClassifier('cars.xml') \n",
    "while(cap.isOpened()):\n",
    "    ret, frame = cap.read() \n",
    "    if ret:\n",
    "        gray = cv2.cvtColor(frame, cv2.COLOR_BGR2GRAY) \n",
    "        cars = car_cascade.detectMultiScale(gray, 1.1, 1) \n",
    "        for (x,y,w,h) in cars: \n",
    "            cv2.rectangle(frame,(x,y),(x+w,y+h),(0,0,255),2)\n",
    "        cv2.imshow('original',frame)\n",
    "        if cv2.waitKey(35) & 0xFF == ord('q'):\n",
    "            break\n",
    "\n",
    "cap.release()\n",
    "cv2.destroyAllWindows()"
   ]
  },
  {
   "cell_type": "markdown",
   "metadata": {},
   "source": [
    "On non static camera"
   ]
  },
  {
   "cell_type": "markdown",
   "metadata": {},
   "source": [
    "![title](vehicle_capture_non_static_camera.JPG)"
   ]
  },
  {
   "cell_type": "code",
   "execution_count": null,
   "metadata": {},
   "outputs": [],
   "source": []
  }
 ],
 "metadata": {
  "kernelspec": {
   "display_name": "Python 3",
   "language": "python",
   "name": "python3"
  },
  "language_info": {
   "codemirror_mode": {
    "name": "ipython",
    "version": 3
   },
   "file_extension": ".py",
   "mimetype": "text/x-python",
   "name": "python",
   "nbconvert_exporter": "python",
   "pygments_lexer": "ipython3",
   "version": "3.7.4"
  }
 },
 "nbformat": 4,
 "nbformat_minor": 5
}
